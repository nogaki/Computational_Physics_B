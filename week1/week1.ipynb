{
  "nbformat": 4,
  "nbformat_minor": 0,
  "metadata": {
    "colab": {
      "provenance": [],
      "authorship_tag": "ABX9TyO6wvUp9iqohrTrZ4tPMSUL"
    },
    "kernelspec": {
      "name": "python3",
      "display_name": "Python 3"
    },
    "language_info": {
      "name": "python"
    }
  },
  "cells": [
    {
      "cell_type": "markdown",
      "source": [
        "**四則演算** \\\n",
        "+: 足し算 \\\n",
        "-: 引き算 \\\n",
        "*: 掛け算 \\\n",
        "/: 割り算（結果は小数） \\\n",
        "//: 割り算の商 \\\n",
        "%: 割り算のあまり"
      ],
      "metadata": {
        "id": "q7GrMV4nM2ha"
      }
    },
    {
      "cell_type": "code",
      "source": [
        "1+3+5"
      ],
      "metadata": {
        "colab": {
          "base_uri": "https://localhost:8080/"
        },
        "id": "AqgI4_vhM2BV",
        "outputId": "cd6a6fe5-3637-480f-bedf-6f9de5d0f4b1"
      },
      "execution_count": 1,
      "outputs": [
        {
          "output_type": "execute_result",
          "data": {
            "text/plain": [
              "9"
            ]
          },
          "metadata": {},
          "execution_count": 1
        }
      ]
    },
    {
      "cell_type": "code",
      "source": [
        "5-2"
      ],
      "metadata": {
        "colab": {
          "base_uri": "https://localhost:8080/"
        },
        "id": "E8xF5IfxNDkC",
        "outputId": "3dbd7f66-3acb-432f-f5a3-0dff1a3323c2"
      },
      "execution_count": null,
      "outputs": [
        {
          "output_type": "execute_result",
          "data": {
            "text/plain": [
              "3"
            ]
          },
          "metadata": {},
          "execution_count": 13
        }
      ]
    },
    {
      "cell_type": "code",
      "source": [
        "5* 2.5"
      ],
      "metadata": {
        "colab": {
          "base_uri": "https://localhost:8080/"
        },
        "id": "L5RReccENHlx",
        "outputId": "2bb5899d-ad1b-443e-f572-ce7516ae2f90"
      },
      "execution_count": null,
      "outputs": [
        {
          "output_type": "execute_result",
          "data": {
            "text/plain": [
              "12.5"
            ]
          },
          "metadata": {},
          "execution_count": 14
        }
      ]
    },
    {
      "cell_type": "code",
      "source": [
        "# 結果は小数\n",
        "7/3"
      ],
      "metadata": {
        "colab": {
          "base_uri": "https://localhost:8080/"
        },
        "id": "nhwnKAI0NJVE",
        "outputId": "610accfb-98a0-4390-b537-bbf357e1e123"
      },
      "execution_count": null,
      "outputs": [
        {
          "output_type": "execute_result",
          "data": {
            "text/plain": [
              "2.3333333333333335"
            ]
          },
          "metadata": {},
          "execution_count": 15
        }
      ]
    },
    {
      "cell_type": "code",
      "source": [
        "# 結果は整数\n",
        "7//3"
      ],
      "metadata": {
        "colab": {
          "base_uri": "https://localhost:8080/"
        },
        "id": "IM60s5KyNNR-",
        "outputId": "481de5be-a356-4bb3-8621-77b1ae1db627"
      },
      "execution_count": null,
      "outputs": [
        {
          "output_type": "execute_result",
          "data": {
            "text/plain": [
              "2"
            ]
          },
          "metadata": {},
          "execution_count": 16
        }
      ]
    },
    {
      "cell_type": "code",
      "source": [
        "# 結果は整数\n",
        "7%3"
      ],
      "metadata": {
        "colab": {
          "base_uri": "https://localhost:8080/"
        },
        "id": "Q8lsi5tdNQt0",
        "outputId": "2c0b52f2-14ea-4dee-ab86-405e165f49e1"
      },
      "execution_count": null,
      "outputs": [
        {
          "output_type": "execute_result",
          "data": {
            "text/plain": [
              "1"
            ]
          },
          "metadata": {},
          "execution_count": 17
        }
      ]
    },
    {
      "cell_type": "markdown",
      "source": [
        "**変数の活用**"
      ],
      "metadata": {
        "id": "eKVXn9DZLKQl"
      }
    },
    {
      "cell_type": "code",
      "source": [
        "# シャープマーク以下はコメントと呼ばれ、プログラム\n",
        "a = 2 # aという変数に2を代入"
      ],
      "metadata": {
        "id": "xVK8m4C5LaA_"
      },
      "execution_count": null,
      "outputs": []
    },
    {
      "cell_type": "code",
      "source": [
        "# 変数aの型は整数型int\n",
        "type(a)"
      ],
      "metadata": {
        "colab": {
          "base_uri": "https://localhost:8080/"
        },
        "id": "1FMKn5phOkvn",
        "outputId": "fb0745cf-c700-4529-b9d5-75a415aa471c"
      },
      "execution_count": null,
      "outputs": [
        {
          "output_type": "execute_result",
          "data": {
            "text/plain": [
              "int"
            ]
          },
          "metadata": {},
          "execution_count": 3
        }
      ]
    },
    {
      "cell_type": "code",
      "source": [
        "# bという変数に0.5を代入\n",
        "b = 0.5"
      ],
      "metadata": {
        "id": "FnxeASKcOnrW"
      },
      "execution_count": null,
      "outputs": []
    },
    {
      "cell_type": "code",
      "source": [
        "# 変数aの型は浮動小数型float\n",
        "type(b)"
      ],
      "metadata": {
        "colab": {
          "base_uri": "https://localhost:8080/"
        },
        "id": "Fi1PQQaQOoxj",
        "outputId": "4a4e9fc3-dc7e-46f2-eb9d-82280b98036f"
      },
      "execution_count": null,
      "outputs": [
        {
          "output_type": "execute_result",
          "data": {
            "text/plain": [
              "float"
            ]
          },
          "metadata": {},
          "execution_count": 23
        }
      ]
    },
    {
      "cell_type": "code",
      "source": [
        "# 変数同士の計算もできるぞ！\n",
        "a+b"
      ],
      "metadata": {
        "colab": {
          "base_uri": "https://localhost:8080/"
        },
        "id": "j7JzdjU2L9xw",
        "outputId": "27c155e8-528c-4f9c-c368-63b8b9b0c98f"
      },
      "execution_count": null,
      "outputs": [
        {
          "output_type": "execute_result",
          "data": {
            "text/plain": [
              "2.5"
            ]
          },
          "metadata": {},
          "execution_count": 6
        }
      ]
    },
    {
      "cell_type": "code",
      "source": [
        "# 文字列は''で囲む\n",
        "c = 'Niigata'"
      ],
      "metadata": {
        "id": "_K2VvjqcPB6V"
      },
      "execution_count": null,
      "outputs": []
    },
    {
      "cell_type": "code",
      "source": [
        "# 文字列型はstr\n",
        "type(c)"
      ],
      "metadata": {
        "colab": {
          "base_uri": "https://localhost:8080/"
        },
        "id": "LL8SR9WZPEvE",
        "outputId": "1363b33e-3a97-444f-8531-52564f9c8be6"
      },
      "execution_count": null,
      "outputs": [
        {
          "output_type": "execute_result",
          "data": {
            "text/plain": [
              "str"
            ]
          },
          "metadata": {},
          "execution_count": 8
        }
      ]
    },
    {
      "cell_type": "markdown",
      "source": [
        "**代入演算子** \\\n",
        "上でなんとなく用いた=は代入演算子と呼ばれ、右辺を左辺に代入する、という意味を持つ。"
      ],
      "metadata": {
        "id": "70qhbGDiMLCF"
      }
    },
    {
      "cell_type": "code",
      "source": [
        "# これはどうなる？\n",
        "a = a + 1"
      ],
      "metadata": {
        "id": "3ofeJunYMRpB"
      },
      "execution_count": null,
      "outputs": []
    },
    {
      "cell_type": "code",
      "source": [
        "a # a+1を計算して、改めてaに代入していることがわかる"
      ],
      "metadata": {
        "colab": {
          "base_uri": "https://localhost:8080/"
        },
        "id": "u0lvJCP1MoYR",
        "outputId": "8c6dd103-df04-423e-e864-39c444985448"
      },
      "execution_count": null,
      "outputs": [
        {
          "output_type": "execute_result",
          "data": {
            "text/plain": [
              "3"
            ]
          },
          "metadata": {},
          "execution_count": 10
        }
      ]
    },
    {
      "cell_type": "markdown",
      "source": [
        "**数学関数**"
      ],
      "metadata": {
        "id": "X4nfHoHxNcWi"
      }
    },
    {
      "cell_type": "code",
      "source": [
        "import numpy as np # おまじない\n",
        "\n",
        "np.sin(np.pi)"
      ],
      "metadata": {
        "colab": {
          "base_uri": "https://localhost:8080/"
        },
        "id": "EIpRItjFNajG",
        "outputId": "4c22450a-b4c1-4e94-f830-867492b8415b"
      },
      "execution_count": null,
      "outputs": [
        {
          "output_type": "execute_result",
          "data": {
            "text/plain": [
              "np.float64(1.2246467991473532e-16)"
            ]
          },
          "metadata": {},
          "execution_count": 21
        }
      ]
    },
    {
      "cell_type": "code",
      "source": [
        "np.cos(np.pi)"
      ],
      "metadata": {
        "colab": {
          "base_uri": "https://localhost:8080/"
        },
        "id": "ADUlU8jvNuBA",
        "outputId": "e99b0310-a8cb-422f-bed4-48ddf9e44205"
      },
      "execution_count": null,
      "outputs": [
        {
          "output_type": "execute_result",
          "data": {
            "text/plain": [
              "np.float64(-1.0)"
            ]
          },
          "metadata": {},
          "execution_count": 22
        }
      ]
    },
    {
      "cell_type": "code",
      "source": [
        "np.log(1.0)"
      ],
      "metadata": {
        "colab": {
          "base_uri": "https://localhost:8080/"
        },
        "id": "chvKCV7ONv35",
        "outputId": "eb0de009-26c3-43a4-aa43-0c1cbfa60322"
      },
      "execution_count": null,
      "outputs": [
        {
          "output_type": "execute_result",
          "data": {
            "text/plain": [
              "np.float64(0.0)"
            ]
          },
          "metadata": {},
          "execution_count": 23
        }
      ]
    },
    {
      "cell_type": "markdown",
      "source": [
        "色々遊んでみよう！"
      ],
      "metadata": {
        "id": "Gk993j-FNzOH"
      }
    }
  ]
}